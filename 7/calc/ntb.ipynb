{
 "cells": [
  {
   "cell_type": "markdown",
   "metadata": {},
   "source": [
    "# Studium kmitů vázaných oscilátorů"
   ]
  },
  {
   "cell_type": "code",
   "execution_count": 4,
   "metadata": {
    "collapsed": true
   },
   "outputs": [],
   "source": [
    "import numpy as np\n",
    "from math import sqrt, pi\n",
    "from uncertainties import ufloat as uf"
   ]
  },
  {
   "cell_type": "code",
   "execution_count": 2,
   "metadata": {
    "collapsed": true
   },
   "outputs": [],
   "source": [
    "def mean_dev(arr):\n",
    "    return np.std(arr, ddof=1) / sqrt(len(arr))\n",
    "\n",
    "\n",
    "def fl_array(st):\n",
    "    lst = st.replace(\"\\n\", \" \").replace(\",\", \".\").split()\n",
    "\n",
    "    arr = np.array(lst, dtype=\"f\")\n",
    "\n",
    "    return arr"
   ]
  },
  {
   "cell_type": "markdown",
   "metadata": {},
   "source": [
    "## Data"
   ]
  },
  {
   "cell_type": "code",
   "execution_count": 3,
   "metadata": {},
   "outputs": [],
   "source": [
    "T_0 = uf(1.88, 0.01)\n",
    "\n",
    "slaba_pruz = np.array([\n",
    "    uf(41.4833, 0.3153),\n",
    "    uf(1.8694 , 0.0088),\n",
    "    uf(1.7917 , 0.0096),\n",
    "    uf(1.84   , 0.01)\n",
    "])\n",
    "\n",
    "silna_pruz = np.array([\n",
    "    uf(21.85 , 0.1871),\n",
    "    uf(1.8694, 0.0088),\n",
    "    uf(1.7278, 0.0088),\n",
    "    uf(1.8083, 0.0132)\n",
    "])"
   ]
  },
  {
   "cell_type": "code",
   "execution_count": 5,
   "metadata": {},
   "outputs": [
    {
     "data": {
      "text/plain": [
       "3.141592653589793"
      ]
     },
     "execution_count": 5,
     "metadata": {},
     "output_type": "execute_result"
    }
   ],
   "source": [
    "pi"
   ]
  },
  {
   "cell_type": "code",
   "execution_count": null,
   "metadata": {
    "collapsed": true
   },
   "outputs": [],
   "source": [
    "ome"
   ]
  }
 ],
 "metadata": {
  "kernelspec": {
   "display_name": "Python 3",
   "language": "python",
   "name": "python3"
  },
  "language_info": {
   "codemirror_mode": {
    "name": "ipython",
    "version": 3
   },
   "file_extension": ".py",
   "mimetype": "text/x-python",
   "name": "python",
   "nbconvert_exporter": "python",
   "pygments_lexer": "ipython3",
   "version": "3.6.1"
  }
 },
 "nbformat": 4,
 "nbformat_minor": 2
}
